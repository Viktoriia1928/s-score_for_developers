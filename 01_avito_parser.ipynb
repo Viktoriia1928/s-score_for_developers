{
  "nbformat": 4,
  "nbformat_minor": 0,
  "metadata": {
    "colab": {
      "provenance": []
    },
    "kernelspec": {
      "name": "python3",
      "display_name": "Python 3"
    },
    "language_info": {
      "name": "python"
    }
  },
  "cells": [
    {
      "cell_type": "code",
      "execution_count": null,
      "metadata": {
        "id": "kBeLrg4ximJN"
      },
      "outputs": [],
      "source": [
        "# Подготовка CSV\n",
        "    csv_file = open('avito_reviews_msc_7.csv', 'w', newline='', encoding='utf-8')\n",
        "    writer = csv.DictWriter(csv_file, fieldnames=[\"developer\",\"username\",\"review_date\",\"rating\",\"project_name\",\"summary\",\"advantages\",\"disadvantages\"])\n",
        "    writer.writeheader()\n",
        "\n",
        "    # Ввод ссылок\n",
        "    raw = input(\"Введите ссылки застройщиков через запятую:\\n\")\n",
        "    urls = [u.strip() for u in raw.split(',') if u.strip()]\n",
        "\n",
        "    for base_url in urls:\n",
        "        dev = extract_developer_from_url(base_url) or \"unknown_developer\"\n",
        "        print(f\"Парсим застройщика: {dev}\")\n",
        "        # стартовая задержка\n",
        "        t0 = random.uniform(INITIAL_WAIT_DEV_MIN, INITIAL_WAIT_DEV_MAX)\n",
        "        print(f\"  стартовая пауза {t0:.1f}s\")\n",
        "        time.sleep(t0)\n",
        "\n",
        "        # пагинация\n",
        "        parsed = urlparse(base_url)\n",
        "        page = int(parse_qs(parsed.query).get('reviewsPage', ['1'])[0])\n",
        "        while True:\n",
        "            url = build_page_url(base_url, page)\n",
        "            print(f\"  страница {page}: {url}\")\n",
        "            driver.get(url)\n",
        "            time.sleep(random.uniform(MIN_DELAY_PAGES, MAX_DELAY_PAGES))\n",
        "            reviews = parse_reviews(driver.page_source)\n",
        "            if not reviews:\n",
        "                print(f\"  нет отзывов на странице {page}, выходим\")\n",
        "                break\n",
        "            for r in reviews:\n",
        "                r['developer'] = dev\n",
        "                writer.writerow(r)\n",
        "            print(f\"  сохранено {len(reviews)} отзывов\")\n",
        "            page += 1\n",
        "\n",
        "        # пауза между застройщиками\n",
        "        tb = random.uniform(MIN_DELAY_DEVS, MAX_DELAY_DEVS)\n",
        "        print(f\"Ждём {tb:.1f}s перед следующим застройщиком\")\n",
        "        time.sleep(tb)\n",
        "\n",
        "    csv_file.close()\n",
        "    driver.quit()\n",
        "    print(\"Готово: avito_reviews_msc_7.csv создан.\")\n",
        "\n",
        "if name == '__main__':\n",
        "    main()"
      ]
    }
  ]
}
